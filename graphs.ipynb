{
 "cells": [
  {
   "cell_type": "code",
   "execution_count": null,
   "metadata": {},
   "outputs": [],
   "source": [
    "def get_chart_url(day, api_key):  \n",
    "    '''Generates a plotly chart and returns its url\n",
    "       Day in format \"YYYY-MM-DD\"   \n",
    "       \n",
    "       Parameters: Day, Plotly API key\n",
    "       Returns: Plotly chart url'''  \n",
    "    \n",
    "    import pandas as pd\n",
    "    import numpy as np\n",
    "    import datetime\n",
    "\n",
    "    from pandas_datareader import data as pdr\n",
    "    import fix_yahoo_finance as yf\n",
    "\n",
    "    import plotly\n",
    "    plotly.tools.set_credentials_file(username='Zarrina', api_key=api_key)\n",
    "\n",
    "    import plotly.plotly as py\n",
    "    import plotly.graph_objs as go\n",
    "    \n",
    "    # Convert day string into a year, month, and day integers\n",
    "    year, month, dday = int(day[:4]), int(day[5:7]), int(day[-2:])\n",
    "    \n",
    "    start_sp = datetime.datetime(year-3, 1, 1)\n",
    "    end_sp = datetime.datetime(year, month, dday)\n",
    "    \n",
    "    # Scrape the data from yahoo finance\n",
    "    yf.pdr_override()\n",
    "    \n",
    "    # Convert data into pandas dataframe\n",
    "    sp500 = pdr.get_data_yahoo('^GSPC', \n",
    "                               start_sp,\n",
    "                               end_sp)\n",
    "    sp500.reset_index(inplace=True)\n",
    "    \n",
    "    # Build a plotly chart object\n",
    "    trace = go.Ohlc(x=sp500['Date'],\n",
    "                open=sp500['Open'],\n",
    "                high=sp500['High'],\n",
    "                low=sp500['Low'],\n",
    "                close=sp500['Close'])\n",
    "    data = [trace]\n",
    "    \n",
    "    # Save the chart in plotly account\n",
    "    chart = py.iplot(data, filename='sp500_chart-'+day)\n",
    "    \n",
    "    #Get the chart's url\n",
    "    url = chart.resource\n",
    "    \n",
    "    return url\n",
    "\n",
    "url = get_chart_url('2019-04-12', '_')  "
   ]
  },
  {
   "cell_type": "code",
   "execution_count": 2,
   "metadata": {},
   "outputs": [
    {
     "name": "stdout",
     "output_type": "stream",
     "text": [
      "[*********************100%***********************]  1 of 1 downloaded\n",
      "[*********************100%***********************]  1 of 1 downloaded\n",
      "[*********************100%***********************]  1 of 1 downloaded\n"
     ]
    }
   ],
   "source": [
    "urls = []\n",
    "for day in ['2019-04-12', '2019-04-11', '2019-04-10']:\n",
    "    url = get_chart_url(day, '_')  \n",
    "    urls.append(url)"
   ]
  },
  {
   "cell_type": "code",
   "execution_count": 3,
   "metadata": {},
   "outputs": [
    {
     "data": {
      "text/plain": [
       "['https://plot.ly/~Zarrina/57',\n",
       " 'https://plot.ly/~Zarrina/59',\n",
       " 'https://plot.ly/~Zarrina/61']"
      ]
     },
     "execution_count": 3,
     "metadata": {},
     "output_type": "execute_result"
    }
   ],
   "source": [
    "urls"
   ]
  },
  {
   "cell_type": "code",
   "execution_count": 4,
   "metadata": {},
   "outputs": [
    {
     "data": {
      "text/html": [
       "<iframe width=\"450\" \n",
       "        height=\"400\" \n",
       "        frameborder=\"0\" \n",
       "        scrolling=\"yes\" \n",
       "        src='//plot.ly/~Zarrina/57.embed'>\n",
       "</iframe>\n"
      ],
      "text/plain": [
       "<IPython.core.display.HTML object>"
      ]
     },
     "metadata": {},
     "output_type": "display_data"
    }
   ],
   "source": [
    "%%html\n",
    "<iframe width=\"450\" \n",
    "        height=\"400\" \n",
    "        frameborder=\"0\" \n",
    "        scrolling=\"yes\" \n",
    "        src='//plot.ly/~Zarrina/57.embed'>\n",
    "</iframe>"
   ]
  },
  {
   "cell_type": "code",
   "execution_count": null,
   "metadata": {},
   "outputs": [],
   "source": []
  }
 ],
 "metadata": {
  "kernelspec": {
   "display_name": "Python 3",
   "language": "python",
   "name": "python3"
  },
  "language_info": {
   "codemirror_mode": {
    "name": "ipython",
    "version": 3
   },
   "file_extension": ".py",
   "mimetype": "text/x-python",
   "name": "python",
   "nbconvert_exporter": "python",
   "pygments_lexer": "ipython3",
   "version": "3.7.3"
  }
 },
 "nbformat": 4,
 "nbformat_minor": 2
}
