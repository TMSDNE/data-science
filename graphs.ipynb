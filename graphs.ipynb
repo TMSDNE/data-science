{
 "cells": [
  {
   "cell_type": "code",
   "execution_count": 17,
   "metadata": {},
   "outputs": [
    {
     "name": "stdout",
     "output_type": "stream",
     "text": [
      "[*********************100%***********************]  1 of 1 downloaded\n"
     ]
    }
   ],
   "source": [
    "def get_chart_url(day, api_key):  \n",
    "    '''Generates a plotly chart and returns its url\n",
    "       Day in format \"YYYY-MM-DD\"   \n",
    "       \n",
    "       Parameters: Day, Plotly API key\n",
    "       Returns: Plotly chart url'''  \n",
    "    \n",
    "    import pandas as pd\n",
    "    import numpy as np\n",
    "    import datetime\n",
    "\n",
    "    from pandas_datareader import data as pdr\n",
    "    import fix_yahoo_finance as yf\n",
    "\n",
    "    import plotly\n",
    "    plotly.tools.set_credentials_file(username='Zarrina', api_key=api_key)\n",
    "\n",
    "    import plotly.plotly as py\n",
    "    import plotly.graph_objs as go\n",
    "    \n",
    "    # Convert day string into a year, month, and day integers\n",
    "    year, month, dday = int(day[:4]), int(day[5:7]), int(day[-2:])\n",
    "    \n",
    "    start_sp = datetime.datetime(year-3, 1, 1)\n",
    "    end_sp = datetime.datetime(year, month, dday)\n",
    "    \n",
    "    # Scrape the data from yahoo finance\n",
    "    yf.pdr_override()\n",
    "    \n",
    "    # Convert data into pandas dataframe\n",
    "    sp500 = pdr.get_data_yahoo('^GSPC', \n",
    "                               start_sp,\n",
    "                               end_sp)\n",
    "    sp500.reset_index(inplace=True)\n",
    "    \n",
    "    url = build_chart_one(sp500,day)\n",
    "    url2 = build_chart_two(sp500, day)\n",
    "    url3 = build_chart_three(sp500, day)\n",
    "    \n",
    "    return url, url2, url3\n",
    "\n",
    "url, url2, url3 = get_chart_url('2019-04-12', '__')  "
   ]
  },
  {
   "cell_type": "code",
   "execution_count": 18,
   "metadata": {},
   "outputs": [
    {
     "data": {
      "text/plain": [
       "('https://plot.ly/~Zarrina/67',\n",
       " 'https://plot.ly/~Zarrina/69',\n",
       " 'https://plot.ly/~Zarrina/65')"
      ]
     },
     "execution_count": 18,
     "metadata": {},
     "output_type": "execute_result"
    }
   ],
   "source": [
    "url, url2, url3"
   ]
  },
  {
   "cell_type": "code",
   "execution_count": 25,
   "metadata": {},
   "outputs": [],
   "source": [
    "def build_chart_one(df,day):\n",
    "    \n",
    "    import plotly.graph_objs as go\n",
    "    import plotly.plotly as py\n",
    "    \n",
    "    # Build a plotly chart object\n",
    "    trace = go.Ohlc(x=df['Date'],\n",
    "                open=df['Open'],\n",
    "                high=df['High'],\n",
    "                low=df['Low'],\n",
    "                close=df['Close'])\n",
    "    data = [trace]\n",
    "    \n",
    "    layout = {\n",
    "    'title': 'Stock Prices',\n",
    "    'yaxis': {'title': 'Stock Price'},\n",
    "    }\n",
    "    \n",
    "    fig = dict(data=data, layout=layout)       \n",
    "\n",
    "    # Save the chart in plotly account\n",
    "    chart = py.iplot(fig, filename='sp500_chart_'+day)\n",
    "    \n",
    "    #Get the chart's url\n",
    "    url = chart.resource\n",
    "    \n",
    "    return url"
   ]
  },
  {
   "cell_type": "code",
   "execution_count": 11,
   "metadata": {},
   "outputs": [],
   "source": [
    "def build_chart_two(df, day):\n",
    "    import plotly.graph_objs as go\n",
    "    import plotly.plotly as py\n",
    "    \n",
    "    trace2 = go.Ohlc(x=df['Date'],\n",
    "                open=df['Open'],\n",
    "                high=df['High'],\n",
    "                low=df['Low'],\n",
    "                close=df['Close'],\n",
    "                increasing=dict(line=dict(color= '#17BECF')),\n",
    "                decreasing=dict(line=dict(color= '#7F7F7F')))\n",
    "        \n",
    "    layout2 = {\n",
    "        'title': 'Stock Prices',\n",
    "        'yaxis': {'title': 'Stock Price'},\n",
    "        'shapes': [{\n",
    "            'x0': '2016-12-09', 'x1': '2016-12-09',\n",
    "            'y0': 0, 'y1': 1, 'xref': 'x', 'yref': 'paper',\n",
    "            'line': {'color': 'rgb(30,30,30)', 'width': 1}\n",
    "        }],\n",
    "        'annotations': [{\n",
    "            'x': '2016-12-09', 'y': 0.05, 'xref': 'x', 'yref': 'paper',\n",
    "            'showarrow': False, 'xanchor': 'left',\n",
    "            'text': 'Increase Period Begins'\n",
    "        }]\n",
    "    }\n",
    "\n",
    "    data2 = [trace2]\n",
    "    fig2 = dict(data=data2, layout=layout2)       \n",
    "\n",
    "    # Save the chart in plotly account\n",
    "    chart2 = py.iplot(fig2, filename='sp500_chart2_'+day)\n",
    "\n",
    "    #Get the chart's url\n",
    "    url2 = chart2.resource  \n",
    "    \n",
    "    return url2"
   ]
  },
  {
   "cell_type": "code",
   "execution_count": 26,
   "metadata": {},
   "outputs": [],
   "source": [
    "def build_chart_three(df, day):\n",
    "    \n",
    "    import plotly.graph_objs as go\n",
    "    import plotly.plotly as py\n",
    "    import datetime\n",
    "    \n",
    "    # Convert day string into a year, month, and day integers\n",
    "    year, month = int(day[:4]), int(day[5:7])\n",
    "    \n",
    "    dates = [datetime.datetime(year-3, month, 1),\n",
    "         datetime.datetime(year-2, month, 1),\n",
    "         datetime.datetime(year-1, month, 1),\n",
    "         datetime.datetime(year, month, 1)]\n",
    "\n",
    "\n",
    "    trace3 = go.Ohlc(x=dates,\n",
    "                    open=df['Open'],\n",
    "                    high=df['High'],\n",
    "                    low=df['Low'],\n",
    "                    close=df['Close'])\n",
    "\n",
    "    layout3 = {\n",
    "        'title': 'Monthly Stock Prices',\n",
    "        'yaxis': {'title': 'Stock Price'},\n",
    "    }\n",
    "\n",
    "    data3 = [trace3]\n",
    "    fig3 = dict(data=data3, layout=layout3)              \n",
    "\n",
    "    # Save the chart in plotly account\n",
    "    chart3 = py.iplot(fig3, filename='sp500_chart4-')\n",
    "\n",
    "    #Get the chart's url\n",
    "    url3 = chart3.resource\n",
    "    chart3\n",
    "    return url3"
   ]
  },
  {
   "cell_type": "code",
   "execution_count": 19,
   "metadata": {},
   "outputs": [
    {
     "name": "stdout",
     "output_type": "stream",
     "text": [
      "[*********************100%***********************]  1 of 1 downloaded\n",
      "[*********************100%***********************]  1 of 1 downloaded\n",
      "[*********************100%***********************]  1 of 1 downloaded\n"
     ]
    }
   ],
   "source": [
    "urls = []\n",
    "for day in ['2019-04-12', '2019-04-11', '2019-04-10']:\n",
    "    url, url2, url3 = get_chart_url(day, 'TXnqNRyWj7kD6gbsAJtB')  \n",
    "    urls.append(url)\n",
    "    urls.append(url2)\n",
    "    urls.append(url3)"
   ]
  },
  {
   "cell_type": "code",
   "execution_count": 2,
   "metadata": {},
   "outputs": [
    {
     "data": {
      "text/plain": [
       "'https://plot.ly/~Zarrina/57'"
      ]
     },
     "execution_count": 2,
     "metadata": {},
     "output_type": "execute_result"
    }
   ],
   "source": [
    "url"
   ]
  },
  {
   "cell_type": "code",
   "execution_count": 20,
   "metadata": {},
   "outputs": [
    {
     "data": {
      "text/plain": [
       "['https://plot.ly/~Zarrina/67',\n",
       " 'https://plot.ly/~Zarrina/69',\n",
       " 'https://plot.ly/~Zarrina/65',\n",
       " 'https://plot.ly/~Zarrina/71',\n",
       " 'https://plot.ly/~Zarrina/73',\n",
       " 'https://plot.ly/~Zarrina/65',\n",
       " 'https://plot.ly/~Zarrina/75',\n",
       " 'https://plot.ly/~Zarrina/77',\n",
       " 'https://plot.ly/~Zarrina/65']"
      ]
     },
     "execution_count": 20,
     "metadata": {},
     "output_type": "execute_result"
    }
   ],
   "source": [
    "urls"
   ]
  },
  {
   "cell_type": "code",
   "execution_count": 27,
   "metadata": {},
   "outputs": [
    {
     "data": {
      "text/html": [
       "<iframe width=\"450\" \n",
       "        height=\"400\" \n",
       "        frameborder=\"0\" \n",
       "        scrolling=\"yes\" \n",
       "        src='//plot.ly/~Zarrina/77.embed'>\n",
       "</iframe>\n"
      ],
      "text/plain": [
       "<IPython.core.display.HTML object>"
      ]
     },
     "metadata": {},
     "output_type": "display_data"
    }
   ],
   "source": [
    "%%html\n",
    "<iframe width=\"450\" \n",
    "        height=\"400\" \n",
    "        frameborder=\"0\" \n",
    "        scrolling=\"yes\" \n",
    "        src='//plot.ly/~Zarrina/77.embed'>\n",
    "</iframe>"
   ]
  },
  {
   "cell_type": "code",
   "execution_count": null,
   "metadata": {},
   "outputs": [],
   "source": []
  }
 ],
 "metadata": {
  "kernelspec": {
   "display_name": "Python 3",
   "language": "python",
   "name": "python3"
  },
  "language_info": {
   "codemirror_mode": {
    "name": "ipython",
    "version": 3
   },
   "file_extension": ".py",
   "mimetype": "text/x-python",
   "name": "python",
   "nbconvert_exporter": "python",
   "pygments_lexer": "ipython3",
   "version": "3.7.3"
  }
 },
 "nbformat": 4,
 "nbformat_minor": 2
}
